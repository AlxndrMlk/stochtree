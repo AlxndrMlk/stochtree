{
 "cells": [
  {
   "cell_type": "markdown",
   "metadata": {},
   "source": [
    "# XBART Demo Notebook"
   ]
  },
  {
   "cell_type": "markdown",
   "metadata": {},
   "source": [
    "Load necessary libraries"
   ]
  },
  {
   "cell_type": "code",
   "execution_count": null,
   "metadata": {},
   "outputs": [],
   "source": [
    "import numpy as np\n",
    "import pandas as pd\n",
    "import seaborn as sns\n",
    "from stochtree import XBART"
   ]
  },
  {
   "cell_type": "markdown",
   "metadata": {},
   "source": [
    "Generate sample data"
   ]
  },
  {
   "cell_type": "code",
   "execution_count": null,
   "metadata": {},
   "outputs": [],
   "source": [
    "rng = np.random.default_rng(101)\n",
    "n = 1000\n",
    "p = 10\n",
    "X = rng.uniform(0, 1, (n, p))\n",
    "y = X[:,0] * 100 + X[:,1] * 2 + rng.normal(0, 1, n)"
   ]
  },
  {
   "cell_type": "markdown",
   "metadata": {},
   "source": [
    "Run the XBART sampler"
   ]
  },
  {
   "cell_type": "code",
   "execution_count": null,
   "metadata": {},
   "outputs": [],
   "source": [
    "xbart_model = XBART()\n",
    "xbart_model.sample(X, y, 20, 10)"
   ]
  },
  {
   "cell_type": "code",
   "execution_count": null,
   "metadata": {},
   "outputs": [],
   "source": [
    "y_hat_samples = xbart_model.predict(X)\n",
    "y_hat_avg = y_hat_samples.mean(axis = 1, keepdims = True)\n",
    "result_mat = np.concatenate((np.expand_dims(y, axis=1), y_hat_avg), axis = 1)\n",
    "result_df = pd.DataFrame(result_mat, columns=[\"True y\", \"Average predicted y\"])\n",
    "sns.scatterplot(data=result_df, x=\"True y\", y=\"Average predicted y\")"
   ]
  }
 ],
 "metadata": {
  "kernelspec": {
   "display_name": "stochtree-dev",
   "language": "python",
   "name": "python3"
  },
  "language_info": {
   "codemirror_mode": {
    "name": "ipython",
    "version": 3
   },
   "file_extension": ".py",
   "mimetype": "text/x-python",
   "name": "python",
   "nbconvert_exporter": "python",
   "pygments_lexer": "ipython3",
   "version": "3.10.13"
  }
 },
 "nbformat": 4,
 "nbformat_minor": 2
}
